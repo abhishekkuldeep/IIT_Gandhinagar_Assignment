{
 "cells": [
  {
   "cell_type": "code",
   "execution_count": 1,
   "id": "53ce1546-a325-4347-823c-0ce72e6a751a",
   "metadata": {},
   "outputs": [],
   "source": [
    "import pandas as pd\n",
    "from sklearn.model_selection import GridSearchCV, KFold, LeaveOneGroupOut\n",
    "from sklearn.metrics import accuracy_score, classification_report\n",
    "from sklearn.ensemble import RandomForestClassifier, AdaBoostClassifier\n",
    "from sklearn.tree import DecisionTreeClassifier\n",
    "from sklearn.linear_model import LogisticRegression\n"
   ]
  },
  {
   "cell_type": "code",
   "execution_count": 2,
   "id": "fbe7b0f3-6387-46eb-982d-714fd4c447e7",
   "metadata": {},
   "outputs": [
    {
     "name": "stderr",
     "output_type": "stream",
     "text": [
      "C:\\Users\\ASUS\\AppData\\Local\\Temp\\ipykernel_25956\\478649651.py:6: FutureWarning: The 'delim_whitespace' keyword in pd.read_csv is deprecated and will be removed in a future version. Use ``sep='\\s+'`` instead\n",
      "  X_train = pd.read_csv(train_features_path, delim_whitespace=True, header=None)\n",
      "C:\\Users\\ASUS\\AppData\\Local\\Temp\\ipykernel_25956\\478649651.py:7: FutureWarning: The 'delim_whitespace' keyword in pd.read_csv is deprecated and will be removed in a future version. Use ``sep='\\s+'`` instead\n",
      "  y_train = pd.read_csv(train_labels_path, delim_whitespace=True, header=None).values.ravel()\n",
      "C:\\Users\\ASUS\\AppData\\Local\\Temp\\ipykernel_25956\\478649651.py:8: FutureWarning: The 'delim_whitespace' keyword in pd.read_csv is deprecated and will be removed in a future version. Use ``sep='\\s+'`` instead\n",
      "  subjects = pd.read_csv(subject_train_path, delim_whitespace=True, header=None).values.ravel()\n"
     ]
    }
   ],
   "source": [
    "# File paths (adjust according to the location of the files)\n",
    "train_features_path = r'C:\\Users\\ASUS\\Desktop\\Intern Task\\UCI HAR Dataset\\UCI HAR Dataset\\train\\X_train.txt'\n",
    "train_labels_path = r'C:\\Users\\ASUS\\Desktop\\Intern Task\\UCI HAR Dataset\\UCI HAR Dataset\\train\\y_train.txt'\n",
    "subject_train_path = r'C:\\Users\\ASUS\\Desktop\\Intern Task\\UCI HAR Dataset\\UCI HAR Dataset\\train\\subject_train.txt'\n",
    "\n",
    "X_train = pd.read_csv(train_features_path, delim_whitespace=True, header=None)\n",
    "y_train = pd.read_csv(train_labels_path, delim_whitespace=True, header=None).values.ravel()\n",
    "subjects = pd.read_csv(subject_train_path, delim_whitespace=True, header=None).values.ravel()\n"
   ]
  },
  {
   "cell_type": "code",
   "execution_count": 3,
   "id": "2afa9ea6-9269-41c6-a2cc-2660cbcffe19",
   "metadata": {},
   "outputs": [],
   "source": [
    "models = {\n",
    "    \"Decision Tree\": DecisionTreeClassifier(random_state=42),\n",
    "    \"Random Forest\": RandomForestClassifier(random_state=42),\n",
    "    \"Logistic Regression\": LogisticRegression(max_iter=1000),\n",
    "    \"AdaBoost\": AdaBoostClassifier(n_estimators=100, algorithm='SAMME', random_state=42)\n",
    "}\n",
    "\n",
    "# Hyperparameters to tune for each model\n",
    "param_grid = {\n",
    "    \"Decision Tree\": {\"max_depth\": [3, 5, 10, None], \"min_samples_split\": [2, 10, 20]},\n",
    "    \"Random Forest\": {\"n_estimators\": [50, 100, 200], \"max_depth\": [None, 5, 10], \"min_samples_split\": [2, 10]},\n",
    "    \"Logistic Regression\": {\"C\": [0.01, 0.1, 1, 10]},\n",
    "    \"AdaBoost\": {\"n_estimators\": [50, 100, 150], \"learning_rate\": [0.01, 0.1, 1]}\n",
    "}\n"
   ]
  },
  {
   "cell_type": "code",
   "execution_count": null,
   "id": "22b8e737-cd04-457f-9bd0-68ff4e22bb7f",
   "metadata": {},
   "outputs": [
    {
     "name": "stdout",
     "output_type": "stream",
     "text": [
      "Running GridSearchCV for Decision Tree...\n"
     ]
    }
   ],
   "source": [
    "# K-Fold Cross-Validation Setup\n",
    "kf = KFold(n_splits=5, shuffle=True, random_state=42)\n",
    "\n",
    "# Grid search for each model\n",
    "best_models = {}\n",
    "for name, model in models.items():\n",
    "    print(f\"Running GridSearchCV for {name}...\")\n",
    "    grid_search = GridSearchCV(model, param_grid[name], cv=kf, scoring=\"accuracy\")\n",
    "    grid_search.fit(X_train, y_train)\n",
    "    best_models[name] = grid_search.best_estimator_\n",
    "    print(f\"Best hyperparameters for {name}: {grid_search.best_params_}\")\n"
   ]
  },
  {
   "cell_type": "code",
   "execution_count": null,
   "id": "f17658c3-2874-4607-9615-b00736e01f64",
   "metadata": {},
   "outputs": [],
   "source": [
    "# Leave-One-Subject-Out Cross-Validation\n",
    "logo = LeaveOneGroupOut()\n",
    "\n",
    "# Evaluate each model with LOSO-CV\n",
    "for name, model in best_models.items():\n",
    "    scores = cross_val_score(model, X_train, y_train, groups=subjects, cv=logo, scoring=\"accuracy\")\n",
    "    print(f\"{name} - LOSO-CV Accuracy: {scores.mean():.4f} ± {scores.std():.4f}\")\n"
   ]
  },
  {
   "cell_type": "code",
   "execution_count": null,
   "id": "4334fb45-0f46-4c05-8dbf-c0cf529d3626",
   "metadata": {},
   "outputs": [],
   "source": [
    "# Load test data\n",
    "test_features_path = r'C:\\Users\\ASUS\\Desktop\\Intern Task\\UCI HAR Dataset\\UCI HAR Dataset\\test\\X_test.txt'\n",
    "test_labels_path = r'C:\\Users\\ASUS\\Desktop\\Intern Task\\UCI HAR Dataset\\UCI HAR Dataset\\test\\y_test.txt'\n",
    "\n",
    "X_test = pd.read_csv(test_features_path, delim_whitespace=True, header=None)\n",
    "y_test = pd.read_csv(test_labels_path, delim_whitespace=True, header=None).values.ravel()\n",
    "\n",
    "# Evaluate on test set\n",
    "for name, model in best_models.items():\n",
    "    model.fit(X_train, y_train)\n",
    "    y_pred = model.predict(X_test)\n",
    "    print(f\"--- {name} Test Set Performance ---\")\n",
    "    print(classification_report(y_test, y_pred))\n"
   ]
  },
  {
   "cell_type": "code",
   "execution_count": null,
   "id": "80cee961-52bc-4778-9f62-cffdd394e1ad",
   "metadata": {},
   "outputs": [],
   "source": [
    "import matplotlib.pyplot as plt\n",
    "\n",
    "# Store results for visualization\n",
    "model_names = list(best_models.keys())\n",
    "kf_accuracies = [cross_val_score(best_models[name], X_train, y_train, cv=kf, scoring=\"accuracy\").mean() for name in model_names]\n",
    "loso_accuracies = [cross_val_score(best_models[name], X_train, y_train, groups=subjects, cv=logo, scoring=\"accuracy\").mean() for name in model_names]\n",
    "\n",
    "# Plotting\n",
    "fig, ax = plt.subplots(1, 2, figsize=(12, 6))\n",
    "\n",
    "# K-Fold CV Plot\n",
    "ax[0].bar(model_names, kf_accuracies, color='skyblue')\n",
    "ax[0].set_title('K-Fold CV Accuracy')\n",
    "ax[0].set_ylabel('Accuracy')\n",
    "\n",
    "# LOSO CV Plot\n",
    "ax[1].bar(model_names, loso_accuracies, color='salmon')\n",
    "ax[1].set_title('LOSO CV Accuracy')\n",
    "ax[1].set_ylabel('Accuracy')\n",
    "\n",
    "plt.tight_layout()\n",
    "plt.show()\n"
   ]
  }
 ],
 "metadata": {
  "kernelspec": {
   "display_name": "Python 3 (ipykernel)",
   "language": "python",
   "name": "python3"
  },
  "language_info": {
   "codemirror_mode": {
    "name": "ipython",
    "version": 3
   },
   "file_extension": ".py",
   "mimetype": "text/x-python",
   "name": "python",
   "nbconvert_exporter": "python",
   "pygments_lexer": "ipython3",
   "version": "3.11.0"
  }
 },
 "nbformat": 4,
 "nbformat_minor": 5
}
