{
 "cells": [
  {
   "cell_type": "code",
   "execution_count": 2,
   "id": "963800d8-7ffd-4409-9a45-55a6333ba7f4",
   "metadata": {},
   "outputs": [
    {
     "name": "stderr",
     "output_type": "stream",
     "text": [
      "C:\\Users\\ASUS\\AppData\\Local\\Temp\\ipykernel_7040\\1936261107.py:14: FutureWarning: The 'delim_whitespace' keyword in pd.read_csv is deprecated and will be removed in a future version. Use ``sep='\\s+'`` instead\n",
      "  X_train = pd.read_csv(train_features_path, delim_whitespace=True, header=None)\n"
     ]
    },
    {
     "name": "stdout",
     "output_type": "stream",
     "text": [
      "Training data shape: (7352, 561)\n"
     ]
    },
    {
     "name": "stderr",
     "output_type": "stream",
     "text": [
      "C:\\Users\\ASUS\\AppData\\Local\\Temp\\ipykernel_7040\\1936261107.py:15: FutureWarning: The 'delim_whitespace' keyword in pd.read_csv is deprecated and will be removed in a future version. Use ``sep='\\s+'`` instead\n",
      "  y_train = pd.read_csv(train_labels_path, delim_whitespace=True, header=None).values.ravel()\n",
      "C:\\Users\\ASUS\\AppData\\Local\\Temp\\ipykernel_7040\\1936261107.py:16: FutureWarning: The 'delim_whitespace' keyword in pd.read_csv is deprecated and will be removed in a future version. Use ``sep='\\s+'`` instead\n",
      "  subjects = pd.read_csv(subject_train_path, delim_whitespace=True, header=None).values.ravel()\n"
     ]
    }
   ],
   "source": [
    "import pandas as pd\n",
    "from sklearn.model_selection import cross_val_score, KFold, LeaveOneGroupOut\n",
    "from sklearn.metrics import accuracy_score, precision_score, recall_score, f1_score\n",
    "from sklearn.ensemble import RandomForestClassifier, AdaBoostClassifier\n",
    "from sklearn.tree import DecisionTreeClassifier\n",
    "from sklearn.linear_model import LogisticRegression\n",
    "\n",
    "# File paths\n",
    "train_features_path = r'C:\\Users\\ASUS\\Desktop\\Intern Task\\UCI HAR Dataset\\UCI HAR Dataset\\train\\X_train.txt'\n",
    "train_labels_path = r'C:\\Users\\ASUS\\Desktop\\Intern Task\\UCI HAR Dataset\\UCI HAR Dataset\\train\\y_train.txt'\n",
    "subject_train_path = r'C:\\Users\\ASUS\\Desktop\\Intern Task\\UCI HAR Dataset\\UCI HAR Dataset\\train\\subject_train.txt'\n",
    "\n",
    "# Load training data\n",
    "X_train = pd.read_csv(train_features_path, delim_whitespace=True, header=None)\n",
    "y_train = pd.read_csv(train_labels_path, delim_whitespace=True, header=None).values.ravel()\n",
    "subjects = pd.read_csv(subject_train_path, delim_whitespace=True, header=None).values.ravel()\n",
    "\n",
    "print(\"Training data shape:\", X_train.shape)\n"
   ]
  },
  {
   "cell_type": "code",
   "execution_count": 3,
   "id": "21d21503-a021-4850-aab5-031af43902cd",
   "metadata": {},
   "outputs": [],
   "source": [
    "from sklearn.ensemble import AdaBoostClassifier\n",
    "\n",
    "adaboost_model = AdaBoostClassifier(n_estimators=100, algorithm='SAMME', random_state=42)\n"
   ]
  },
  {
   "cell_type": "code",
   "execution_count": 4,
   "id": "bb72e1fd-159f-4f40-ac6d-81c270b39665",
   "metadata": {},
   "outputs": [],
   "source": [
    "#step-2 Define models\n",
    "\n",
    "models = {\n",
    "    \"Decision Tree\": DecisionTreeClassifier(random_state=42),\n",
    "    \"Random Forest\": RandomForestClassifier(n_estimators=100, random_state=42),\n",
    "    \"Logistic Regression\": LogisticRegression(max_iter=1000),\n",
    "    \"AdaBoost\": AdaBoostClassifier(n_estimators=100, algorithm='SAMME', random_state=42)\n",
    "}\n",
    "\n",
    "\n"
   ]
  },
  {
   "cell_type": "code",
   "execution_count": 5,
   "id": "74672258-bdc2-41e1-88dc-ee020510665d",
   "metadata": {},
   "outputs": [
    {
     "name": "stdout",
     "output_type": "stream",
     "text": [
      "Decision Tree - K-Fold CV Accuracy: 0.9354 ± 0.0038\n",
      "Random Forest - K-Fold CV Accuracy: 0.9808 ± 0.0019\n",
      "Logistic Regression - K-Fold CV Accuracy: 0.9834 ± 0.0030\n"
     ]
    },
    {
     "name": "stderr",
     "output_type": "stream",
     "text": [
      "C:\\Users\\ASUS\\AppData\\Roaming\\Python\\Python311\\site-packages\\sklearn\\ensemble\\_weight_boosting.py:514: FutureWarning: The parameter 'algorithm' is deprecated in 1.6 and has no effect. It will be removed in version 1.8.\n",
      "  warnings.warn(\n",
      "C:\\Users\\ASUS\\AppData\\Roaming\\Python\\Python311\\site-packages\\sklearn\\ensemble\\_weight_boosting.py:514: FutureWarning: The parameter 'algorithm' is deprecated in 1.6 and has no effect. It will be removed in version 1.8.\n",
      "  warnings.warn(\n",
      "C:\\Users\\ASUS\\AppData\\Roaming\\Python\\Python311\\site-packages\\sklearn\\ensemble\\_weight_boosting.py:514: FutureWarning: The parameter 'algorithm' is deprecated in 1.6 and has no effect. It will be removed in version 1.8.\n",
      "  warnings.warn(\n",
      "C:\\Users\\ASUS\\AppData\\Roaming\\Python\\Python311\\site-packages\\sklearn\\ensemble\\_weight_boosting.py:514: FutureWarning: The parameter 'algorithm' is deprecated in 1.6 and has no effect. It will be removed in version 1.8.\n",
      "  warnings.warn(\n",
      "C:\\Users\\ASUS\\AppData\\Roaming\\Python\\Python311\\site-packages\\sklearn\\ensemble\\_weight_boosting.py:514: FutureWarning: The parameter 'algorithm' is deprecated in 1.6 and has no effect. It will be removed in version 1.8.\n",
      "  warnings.warn(\n"
     ]
    },
    {
     "name": "stdout",
     "output_type": "stream",
     "text": [
      "AdaBoost - K-Fold CV Accuracy: 0.4108 ± 0.0070\n"
     ]
    }
   ],
   "source": [
    "#Step-3 K-Fold Cross-Validation\n",
    "\n",
    "from sklearn.model_selection import KFold\n",
    "\n",
    "# K-Fold Cross-Validation\n",
    "kf = KFold(n_splits=5, shuffle=True, random_state=42)\n",
    "\n",
    "# Evaluate each model\n",
    "for name, model in models.items():\n",
    "    scores = cross_val_score(model, X_train, y_train, cv=kf, scoring='accuracy')\n",
    "    print(f\"{name} - K-Fold CV Accuracy: {scores.mean():.4f} ± {scores.std():.4f}\")\n"
   ]
  },
  {
   "cell_type": "code",
   "execution_count": null,
   "id": "b3496529-d7d3-4ab0-a339-d1740c3f460c",
   "metadata": {},
   "outputs": [],
   "source": [
    "# Step 4: Leave-One-Subject-Out CV\n",
    "\n",
    "from sklearn.model_selection import LeaveOneGroupOut\n",
    "\n",
    "logo = LeaveOneGroupOut()\n",
    "\n",
    "# Evaluate each model with LOSO-CV\n",
    "for name, model in models.items():\n",
    "    scores = cross_val_score(model, X_train, y_train, groups=subjects, cv=logo, scoring='accuracy')\n",
    "    print(f\"{name} - LOSO-CV Accuracy: {scores.mean():.4f} ± {scores.std():.4f}\")\n"
   ]
  },
  {
   "cell_type": "code",
   "execution_count": null,
   "id": "11188b36-a7e3-4857-bd65-2af6345d938e",
   "metadata": {},
   "outputs": [],
   "source": [
    "#Step 5: Final Performance Comparison\n",
    "\n",
    "test_features_path = r'C:\\Users\\LTS\\Desktop\\Intern Task\\UCI HAR Dataset\\UCI HAR Dataset\\test\\X_test.txt'\n",
    "test_labels_path = r'C:\\Users\\LTS\\Desktop\\Intern Task\\UCI HAR Dataset\\UCI HAR Dataset\\test\\y_test.txt'\n",
    "\n",
    "X_test = pd.read_csv(test_features_path, delim_whitespace=True, header=None)\n",
    "y_test = pd.read_csv(test_labels_path, delim_whitespace=True, header=None).values.ravel()\n",
    "\n",
    "# Train and evaluate models\n",
    "from sklearn.metrics import classification_report\n",
    "\n",
    "for name, model in models.items():\n",
    "    model.fit(X_train, y_train)\n",
    "    y_pred = model.predict(X_test)\n",
    "    print(f\"--- {name} Performance on Test Data ---\")\n",
    "    print(classification_report(y_test, y_pred, digits=4))\n"
   ]
  }
 ],
 "metadata": {
  "kernelspec": {
   "display_name": "Python 3 (ipykernel)",
   "language": "python",
   "name": "python3"
  },
  "language_info": {
   "codemirror_mode": {
    "name": "ipython",
    "version": 3
   },
   "file_extension": ".py",
   "mimetype": "text/x-python",
   "name": "python",
   "nbconvert_exporter": "python",
   "pygments_lexer": "ipython3",
   "version": "3.11.0"
  }
 },
 "nbformat": 4,
 "nbformat_minor": 5
}
